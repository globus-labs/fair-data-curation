{
 "cells": [
  {
   "cell_type": "markdown",
   "id": "1c779802-1430-4132-8ce1-f74f595402c5",
   "metadata": {},
   "source": [
    "# Describing Hierarchical Data with JSON\n",
    "The JSON data format is widely used to describe data with a hierarchical structure. \n",
    "Such structures are composed of nested set of rules like \"addresses have street numbers\", and \"street numbers are positive integers.\"\n",
    "This notebook will show you how to create simple JSON documents then enforce their format requirements using the JSON Schema."
   ]
  },
  {
   "cell_type": "code",
   "execution_count": 1,
   "id": "c5f632b7-9ef8-45e8-a300-2d897af36a44",
   "metadata": {
    "tags": []
   },
   "outputs": [],
   "source": [
    "import json"
   ]
  },
  {
   "cell_type": "markdown",
   "id": "45e75abb-b574-4530-adf6-17e7917d75fa",
   "metadata": {},
   "source": [
    "## First, Reading and Writing a JSON Document in Python\n",
    "JSON documents map neatly to the \"dictionary\" data structure and many of the other data types used in Python. \n",
    "Accordingly, there is a [JSON module](https://docs.python.org/3/library/json.html) available in all installations of Python for moving to- and from this data format.\n",
    "\n",
    "Let's start with some simple data: Only one level of nesting and only two types of data, integers and strings."
   ]
  },
  {
   "cell_type": "code",
   "execution_count": 2,
   "id": "7297b5b9-ea09-463d-b66a-02df89616c1f",
   "metadata": {
    "tags": []
   },
   "outputs": [],
   "source": [
    "my_address = {\n",
    "    'number': 9700,\n",
    "    'direction': 'S',\n",
    "    'street_name': 'Cass',\n",
    "    'street_suffix': 'Ave',\n",
    "    'city': 'Lemont', \n",
    "    'state': 'IL',\n",
    "    'zip': 60439\n",
    "}"
   ]
  },
  {
   "cell_type": "markdown",
   "id": "6673bf0e-a900-4655-872f-63cdbfa6de38",
   "metadata": {},
   "source": [
    "Converting this to JSON is simple"
   ]
  },
  {
   "cell_type": "code",
   "execution_count": 4,
   "id": "7cabecca-7d63-4140-b0d6-dde2a7c733d9",
   "metadata": {
    "tags": []
   },
   "outputs": [
    {
     "name": "stdout",
     "output_type": "stream",
     "text": [
      "{\n",
      "  \"number\": 9700,\n",
      "  \"direction\": \"S\",\n",
      "  \"street_name\": \"Cass\",\n",
      "  \"street_suffix\": \"Ave\",\n",
      "  \"city\": \"Lemont\",\n",
      "  \"state\": \"IL\",\n",
      "  \"zip\": 60439\n",
      "}\n"
     ]
    }
   ],
   "source": [
    "print(json.dumps(my_address, indent=2))"
   ]
  },
  {
   "cell_type": "markdown",
   "id": "66a2d59e-2b57-45c1-897d-8afa5a69a1c9",
   "metadata": {},
   "source": [
    "JSON-format data looks almost exactly like Python code ([JSON's syntax is from a programming language](https://en.wikipedia.org/wiki/JSON#History)). \n",
    "There are differences including JSON only allowing double quotes for marking strings and only allowing keys to be strings, but they only rarely come up as problem."
   ]
  },
  {
   "cell_type": "code",
   "execution_count": 6,
   "id": "5c9f93a3-c4fe-4896-9b0f-7dc0aea32a47",
   "metadata": {
    "tags": []
   },
   "outputs": [
    {
     "data": {
      "text/plain": [
       "'{\"1\": 1}'"
      ]
     },
     "execution_count": 6,
     "metadata": {},
     "output_type": "execute_result"
    }
   ],
   "source": [
    "json.dumps({1: 1})"
   ]
  },
  {
   "cell_type": "code",
   "execution_count": 8,
   "id": "8e59877c-07c1-4738-9543-0db8d0d68065",
   "metadata": {
    "tags": []
   },
   "outputs": [
    {
     "name": "stdout",
     "output_type": "stream",
     "text": [
      "Expecting property name enclosed in double quotes: line 1 column 2 (char 1)\n"
     ]
    }
   ],
   "source": [
    "try:\n",
    "    json.loads(\"{'1': 1}\")\n",
    "except json.JSONDecodeError as e:\n",
    "    print(e)"
   ]
  },
  {
   "cell_type": "markdown",
   "id": "31b8116f-c1b1-4bda-ac8a-e30d9b1f9093",
   "metadata": {},
   "source": [
    "In short, it is pretty easy to write and understand what a JSON document can look like. \n",
    "\n",
    "The challenge is defining what it _must_ look like for your data."
   ]
  },
  {
   "cell_type": "markdown",
   "id": "293461f1-5438-4e18-ad94-2ae0f91b0072",
   "metadata": {},
   "source": [
    "## JSON Schemas\n",
    "JSON Schemas enforce what keys and values can be for a document to belong to certain format.\n",
    "\n",
    "All JSON schemas are JSON documents which start with a special preamble denoting what they are about."
   ]
  },
  {
   "cell_type": "code",
   "execution_count": 9,
   "id": "e028ba73-5cea-49f6-b0f6-5ab8c86e9396",
   "metadata": {
    "tags": []
   },
   "outputs": [],
   "source": [
    "schema = {\n",
    "    \"$schema\": \"https://json-schema.org/draft/2020-12/schema\",\n",
    "    \"title\": \"Address\",\n",
    "    \"description\": \"A location recognized by the US Postal Service\",\n",
    "    \"type\": \"object\"\n",
    "}"
   ]
  },
  {
   "cell_type": "code",
   "execution_count": null,
   "id": "5f0f7dc4-b67d-47aa-b2b4-05a94fe122f2",
   "metadata": {},
   "outputs": [],
   "source": []
  }
 ],
 "metadata": {
  "kernelspec": {
   "display_name": "Python 3 (ipykernel)",
   "language": "python",
   "name": "python3"
  },
  "language_info": {
   "codemirror_mode": {
    "name": "ipython",
    "version": 3
   },
   "file_extension": ".py",
   "mimetype": "text/x-python",
   "name": "python",
   "nbconvert_exporter": "python",
   "pygments_lexer": "ipython3",
   "version": "3.11.3"
  }
 },
 "nbformat": 4,
 "nbformat_minor": 5
}
